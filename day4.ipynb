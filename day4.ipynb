{
  "nbformat": 4,
  "nbformat_minor": 0,
  "metadata": {
    "colab": {
      "provenance": [],
      "collapsed_sections": [],
      "authorship_tag": "ABX9TyOjf9os1tU3sV+07npyxZ5N",
      "include_colab_link": true
    },
    "kernelspec": {
      "name": "python3",
      "display_name": "Python 3"
    },
    "language_info": {
      "name": "python"
    }
  },
  "cells": [
    {
      "cell_type": "markdown",
      "metadata": {
        "id": "view-in-github",
        "colab_type": "text"
      },
      "source": [
        "<a href=\"https://colab.research.google.com/github/fedhah/python_challenge-/blob/main/day4.ipynb\" target=\"_parent\"><img src=\"https://colab.research.google.com/assets/colab-badge.svg\" alt=\"Open In Colab\"/></a>"
      ]
    },
    {
      "cell_type": "markdown",
      "source": [
        "\n",
        "this code idea is: \n",
        "department team in England company went to togather to drink coffee and only one of them going to pay,\n",
        "they gather their cards and mixed randomly one card will select and see who the card owner "
      ],
      "metadata": {
        "id": "IrK0vZ8n88Lh"
      }
    },
    {
      "cell_type": "code",
      "execution_count": null,
      "metadata": {
        "colab": {
          "base_uri": "https://localhost:8080/"
        },
        "id": "vojIha95ixId",
        "outputId": "1660ce29-1745-44b5-f1a6-f253bf01b982"
      },
      "outputs": [
        {
          "output_type": "stream",
          "name": "stdout",
          "text": [
            "Give me everybody's names, separated by a comma. Angela, Ben, Jenny, Michael, Chloe\n",
            "Chloe is going to buy the meal today!\n"
          ]
        }
      ],
      "source": [
        "# Split string method\n",
        "names_string = input(\"Give me everybody's names, separated by a comma. \")\n",
        "names = names_string.split(\", \")\n",
        "# 🚨 Don't change the code above 👆\n",
        "\n",
        "#Write your code below this line 👇\n",
        "# you can use these names if you want\n",
        "#---  Angela, Ben, Jenny, Michael, Chloe ---\n",
        "\n",
        "len_item = len(names)\n",
        "import random\n",
        "who_pay = random.randint(0,len_item-1)\n",
        "x = names[who_pay]\n",
        "\n",
        "print(f'{x} is going to buy the meal today!')"
      ]
    },
    {
      "cell_type": "code",
      "source": [
        "import random\n",
        "\n",
        "play = random.randint(0,1)\n",
        "if play == 1:\n",
        "  print(\"Heads\")\n",
        "else:\n",
        "  print(\"Tails\")"
      ],
      "metadata": {
        "id": "qgMMxgkMix08",
        "colab": {
          "base_uri": "https://localhost:8080/"
        },
        "outputId": "3ad86da6-a31e-478d-9827-0a028a3948cc"
      },
      "execution_count": 1,
      "outputs": [
        {
          "output_type": "stream",
          "name": "stdout",
          "text": [
            "Tails\n"
          ]
        }
      ]
    },
    {
      "cell_type": "code",
      "source": [],
      "metadata": {
        "id": "__NqC91aXfl6"
      },
      "execution_count": null,
      "outputs": []
    },
    {
      "cell_type": "markdown",
      "source": [
        "Reference: udemy course 100 days challenge learning python"
      ],
      "metadata": {
        "id": "F1WALiYmXjF5"
      }
    }
  ]
}