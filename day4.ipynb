{
  "nbformat": 4,
  "nbformat_minor": 0,
  "metadata": {
    "colab": {
      "provenance": [],
      "authorship_tag": "ABX9TyPCkjRhWwnlc8vprv4LkG8S",
      "include_colab_link": true
    },
    "kernelspec": {
      "name": "python3",
      "display_name": "Python 3"
    },
    "language_info": {
      "name": "python"
    }
  },
  "cells": [
    {
      "cell_type": "markdown",
      "metadata": {
        "id": "view-in-github",
        "colab_type": "text"
      },
      "source": [
        "<a href=\"https://colab.research.google.com/github/fedhah/python_challenge-/blob/main/day4.ipynb\" target=\"_parent\"><img src=\"https://colab.research.google.com/assets/colab-badge.svg\" alt=\"Open In Colab\"/></a>"
      ]
    },
    {
      "cell_type": "markdown",
      "source": [
        "\n",
        "this code idea is: \n",
        "department team in England company went to togather to drink coffee and only one of them going to pay,\n",
        "they gather their cards and mixed randomly one card will select and see who the card owner "
      ],
      "metadata": {
        "id": "IrK0vZ8n88Lh"
      }
    },
    {
      "cell_type": "code",
      "execution_count": 2,
      "metadata": {
        "colab": {
          "base_uri": "https://localhost:8080/"
        },
        "id": "vojIha95ixId",
        "outputId": "1660ce29-1745-44b5-f1a6-f253bf01b982"
      },
      "outputs": [
        {
          "output_type": "stream",
          "name": "stdout",
          "text": [
            "Give me everybody's names, separated by a comma. Angela, Ben, Jenny, Michael, Chloe\n",
            "Chloe is going to buy the meal today!\n"
          ]
        }
      ],
      "source": [
        "# Split string method\n",
        "names_string = input(\"Give me everybody's names, separated by a comma. \")\n",
        "names = names_string.split(\", \")\n",
        "# 🚨 Don't change the code above 👆\n",
        "\n",
        "#Write your code below this line 👇\n",
        "# you can use these names if you want\n",
        "#---  Angela, Ben, Jenny, Michael, Chloe ---\n",
        "\n",
        "len_item = len(names)\n",
        "import random\n",
        "who_pay = random.randint(0,len_item-1)\n",
        "x = names[who_pay]\n",
        "\n",
        "print(f'{x} is going to buy the meal today!')"
      ]
    },
    {
      "cell_type": "code",
      "source": [],
      "metadata": {
        "id": "qgMMxgkMix08"
      },
      "execution_count": null,
      "outputs": []
    }
  ]
}